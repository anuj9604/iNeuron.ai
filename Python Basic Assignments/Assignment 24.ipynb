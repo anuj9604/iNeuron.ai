{
 "cells": [
  {
   "cell_type": "markdown",
   "metadata": {},
   "source": [
    "# 1. What is the relationship between def statements and lambda expressions?"
   ]
  },
  {
   "cell_type": "markdown",
   "metadata": {},
   "source": [
    "lambda statements are used as shorthands, for functions that are one liners. And they return a value automatically. Whereas, def statements are used to create a function object the classical way."
   ]
  },
  {
   "cell_type": "markdown",
   "metadata": {},
   "source": [
    "# 2. What is the benefit of lambda?"
   ]
  },
  {
   "cell_type": "markdown",
   "metadata": {},
   "source": [
    "lambda functions have advantages over regular function definition are as follows:\n",
    "\n",
    "1. Short precise statements\n",
    "2. No need to create a function object if there is no need\n",
    "3. No namespace entry for function object is created"
   ]
  },
  {
   "cell_type": "markdown",
   "metadata": {},
   "source": [
    "# 3. Compare and contrast map, filter, and reduce."
   ]
  },
  {
   "cell_type": "markdown",
   "metadata": {},
   "source": [
    "**map():**\n",
    "This function takes in two arguments. First a function and another an iterable. And returns a list containing values returned when each element of the iterable is passed onto the function.\n",
    "\n",
    "**filter():**\n",
    "This function similar to map takes in two arguments. But returns a list containing only those element of the iterable for which the the function passed as argument returns True.\n",
    "\n",
    "**reduce():**\n",
    "This also, takes in two arguments. And returns a single value, by passsing first 2 elements of the iterable, passes them into the function and then whatever is returned is then passed in again in that function along with the 3rd element of the iterable, and so on. Till the iterable is exhausted."
   ]
  },
  {
   "cell_type": "markdown",
   "metadata": {},
   "source": [
    "# 4. What are function annotations, and how are they used?"
   ]
  },
  {
   "cell_type": "markdown",
   "metadata": {},
   "source": [
    "Function annotations are a way to add some explanatory text onto function arguments and it's return value. Below is an example on how to use function annotations.\n",
    "\n",
    "* def area_tri(b:'dimensions of base in cm', h:'dimensions of height in cm') -> \"Gives you the area of a triangle\":\n",
    "    \n",
    "        return 0.5*(b*h)\n",
    "    \n",
    "  area_tri.______annotations__"
   ]
  },
  {
   "cell_type": "markdown",
   "metadata": {},
   "source": [
    "# 5. What are recursive functions, and how are they used?"
   ]
  },
  {
   "cell_type": "markdown",
   "metadata": {},
   "source": [
    "Recursive functions are functions that call themselves in the very definition. They are designed in a way that they make use of their own code.\n",
    "\n",
    "Below is a code that shows how a recursive function looks like:\n",
    "\n",
    "\n",
    "* def factorial(x: 'Number of which you want to find the factorial of') -> returns the factorial of the number passed:\n",
    "    \n",
    "    if x == 1:\n",
    "        \n",
    "        return 1\n",
    "    \n",
    "    else:\n",
    "        \n",
    "        return (x * factorial(x-1))"
   ]
  },
  {
   "cell_type": "markdown",
   "metadata": {},
   "source": [
    "# 6. What are some general design guidelines for coding functions?"
   ]
  },
  {
   "cell_type": "markdown",
   "metadata": {},
   "source": [
    "When defining functions, there are some basic rules that need to be kept in mind:\n",
    "    \n",
    "    1. Always have a docstring.\n",
    "    2. Use Annotations if possible.\n",
    "    3. Keep functions usability modular, so they can be used for other purposes too.\n",
    "    4. Try to return the values from a function, rather than returning it."
   ]
  },
  {
   "cell_type": "markdown",
   "metadata": {},
   "source": [
    "# 7. Name three or more ways that functions can communicate results to a caller."
   ]
  },
  {
   "cell_type": "markdown",
   "metadata": {},
   "source": [
    "Not able to comprehend the question, clearly."
   ]
  }
 ],
 "metadata": {
  "kernelspec": {
   "display_name": "Python 3",
   "language": "python",
   "name": "python3"
  },
  "language_info": {
   "codemirror_mode": {
    "name": "ipython",
    "version": 3
   },
   "file_extension": ".py",
   "mimetype": "text/x-python",
   "name": "python",
   "nbconvert_exporter": "python",
   "pygments_lexer": "ipython3",
   "version": "3.8.5"
  }
 },
 "nbformat": 4,
 "nbformat_minor": 4
}
