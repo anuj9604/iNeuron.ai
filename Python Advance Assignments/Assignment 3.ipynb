{
 "cells": [
  {
   "cell_type": "markdown",
   "metadata": {},
   "source": [
    "# 1. What is the concept of an abstract superclass?"
   ]
  },
  {
   "cell_type": "markdown",
   "metadata": {},
   "source": [
    "Abstract Super Class. A common superclass for several subclasses. Factor up common behavior. Define the methods they all respond to. Methods that subclasses should implement are declared abstract."
   ]
  },
  {
   "cell_type": "markdown",
   "metadata": {},
   "source": [
    "# 2. What happens when a class statement&#39;s top level contains a basic assignment statement?"
   ]
  },
  {
   "cell_type": "markdown",
   "metadata": {},
   "source": [
    "It creates a class attribute inside that class, rather than a instance attribute."
   ]
  },
  {
   "cell_type": "markdown",
   "metadata": {},
   "source": [
    "# 3. Why does a class need to manually call a superclass's __init__ method?"
   ]
  },
  {
   "cell_type": "markdown",
   "metadata": {},
   "source": [
    "Because, calling the ______init__ of superclass inside the child class, would run all the attributes assignements and method construction code, for it to be used by the child class,"
   ]
  },
  {
   "cell_type": "markdown",
   "metadata": {},
   "source": [
    "# 4. How can you augment, instead of completely replacing, an inherited method?"
   ]
  },
  {
   "cell_type": "markdown",
   "metadata": {},
   "source": [
    "By creating a method of the same name in a inherited class and calling the Superclass method by class reference. Below is a complete example showing this:\n",
    "\n",
    "## #This is a superclass\n",
    "\n",
    "class Employee():\n",
    "\n",
    "    def __init__(self, f_name, l_name, age, sex, salary):\n",
    "        \n",
    "        self.f_name = f_name\n",
    "        self.l_name = l_name\n",
    "        self.email = f_name+'.'+l_name+'email.com'\n",
    "        self.age = age\n",
    "        self.sex = sex\n",
    "        self.salary = salary\n",
    "        \n",
    "    def total_ctc(self, add):\n",
    "    \n",
    "        return self.salary+add\n",
    "        \n",
    "## #This is a child class\n",
    "\n",
    "class Manager(Employee):\n",
    "\n",
    "    def __init__(self, f_name, l_name, age, sex, salary, bonus):\n",
    "        \n",
    "        Employee.__init__(self, f_name, l_name, age, sex, salary)\n",
    "        self.bonus = bonus\n",
    "        \n",
    "    def total_ctc(self, add):\n",
    "    \n",
    "        return Employee.total_ctc(self, add+self.bonus)             <-Key statement"
   ]
  },
  {
   "cell_type": "markdown",
   "metadata": {},
   "source": [
    "# 5. How is the local scope of a class different from that of a function?"
   ]
  },
  {
   "cell_type": "markdown",
   "metadata": {},
   "source": [
    "Local scope of a class is used with a self keyword, meaning any attribute ry to access needs to be passed by self, inside methods and this will inherently let methods call attributes.\n",
    "\n",
    "Whereas, function local scope follows classic scope rules."
   ]
  }
 ],
 "metadata": {
  "kernelspec": {
   "display_name": "Python 3",
   "language": "python",
   "name": "python3"
  },
  "language_info": {
   "codemirror_mode": {
    "name": "ipython",
    "version": 3
   },
   "file_extension": ".py",
   "mimetype": "text/x-python",
   "name": "python",
   "nbconvert_exporter": "python",
   "pygments_lexer": "ipython3",
   "version": "3.8.5"
  }
 },
 "nbformat": 4,
 "nbformat_minor": 4
}
