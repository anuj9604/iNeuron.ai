{
 "cells": [
  {
   "cell_type": "markdown",
   "metadata": {},
   "source": [
    "# Q1. Does assigning a value to a string's indexed character violate Python's string immutability?"
   ]
  },
  {
   "cell_type": "markdown",
   "metadata": {},
   "source": [
    "Yes"
   ]
  },
  {
   "cell_type": "markdown",
   "metadata": {},
   "source": [
    "# Q2. Does using the += operator to concatenate strings violate Python's string immutability? Why or why not?"
   ]
  },
  {
   "cell_type": "markdown",
   "metadata": {},
   "source": [
    "This does not violate string's immutability as, it creates a new string object of the same name in a different address or in the same address by first clearing the existence of the current one."
   ]
  },
  {
   "cell_type": "markdown",
   "metadata": {},
   "source": [
    "# Q3. In Python, how many different ways are there to index a character?"
   ]
  },
  {
   "cell_type": "markdown",
   "metadata": {},
   "source": [
    "There are 2 ways, either through positive or negative indexing."
   ]
  },
  {
   "cell_type": "markdown",
   "metadata": {},
   "source": [
    "# Q4. What is the relationship between indexing and slicing?"
   ]
  },
  {
   "cell_type": "markdown",
   "metadata": {},
   "source": [
    "“Indexing” means referring to an element of an iterable by its position within the iterable. “Slicing” means getting a subset of elements from an iterable based on their indices."
   ]
  },
  {
   "cell_type": "markdown",
   "metadata": {},
   "source": [
    "# Q5. What is an indexed character's exact data type? What is the data form of a slicing-generated substring?"
   ]
  },
  {
   "cell_type": "markdown",
   "metadata": {},
   "source": [
    "Data type of both the sliced and the indexed string is a string."
   ]
  },
  {
   "cell_type": "markdown",
   "metadata": {},
   "source": [
    "# Q6. What is the relationship between string and character &quot;types&quot; in Python?"
   ]
  },
  {
   "cell_type": "markdown",
   "metadata": {},
   "source": [
    "Do not know"
   ]
  },
  {
   "cell_type": "markdown",
   "metadata": {},
   "source": [
    "# Q7. Identify at least two operators and one method that allow you to combine one or more smaller strings to create a larger string."
   ]
  },
  {
   "cell_type": "markdown",
   "metadata": {},
   "source": [
    "operators '+' and '*'\n",
    "method join()"
   ]
  },
  {
   "cell_type": "markdown",
   "metadata": {},
   "source": [
    "# Q8. What is the benefit of first checking the target string with in or not in before using the index method to find a substring?"
   ]
  },
  {
   "cell_type": "markdown",
   "metadata": {},
   "source": [
    "So, that if substring is not there, no ValueError will be thrown. Which would be the case if index is called directly."
   ]
  },
  {
   "cell_type": "markdown",
   "metadata": {},
   "source": [
    "# Q9. Which operators and built-in string methods produce simple Boolean (true/false) results?"
   ]
  },
  {
   "cell_type": "markdown",
   "metadata": {},
   "source": [
    "There several, some are:\n",
    "\n",
    "operators ==, <\n",
    "\n",
    "methods is_upper, is_lower"
   ]
  }
 ],
 "metadata": {
  "kernelspec": {
   "display_name": "Python 3",
   "language": "python",
   "name": "python3"
  },
  "language_info": {
   "codemirror_mode": {
    "name": "ipython",
    "version": 3
   },
   "file_extension": ".py",
   "mimetype": "text/x-python",
   "name": "python",
   "nbconvert_exporter": "python",
   "pygments_lexer": "ipython3",
   "version": "3.8.5"
  }
 },
 "nbformat": 4,
 "nbformat_minor": 4
}
