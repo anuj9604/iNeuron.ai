{
 "cells": [
  {
   "cell_type": "markdown",
   "metadata": {},
   "source": [
    "# Q1. Describe three applications for exception processing."
   ]
  },
  {
   "cell_type": "markdown",
   "metadata": {},
   "source": [
    "1. Arithmetic exceptions such as division by zero and so on.\n",
    "2. Operating systems use exception handling to resolve deadlocks,recover from crash and so forth.\n",
    "3. Database connectivity uses exception handling(why???) this is because the reason for database connectivity failure cannot be predicted and handled as it can be caused by many variables such as power failure, unreachable server,failure at client front/back end and so on."
   ]
  },
  {
   "cell_type": "markdown",
   "metadata": {},
   "source": [
    "# Q2. What happens if you don't do something extra to treat an exception?"
   ]
  },
  {
   "cell_type": "markdown",
   "metadata": {},
   "source": [
    "This can cause ceasing of your code and may result in system failure or a hazardous situation at user end."
   ]
  },
  {
   "cell_type": "markdown",
   "metadata": {},
   "source": [
    "# Q3. What are your options for recovering from an exception in your script?"
   ]
  },
  {
   "cell_type": "markdown",
   "metadata": {},
   "source": [
    "You have 1 option to use __try except__ block in your code."
   ]
  },
  {
   "cell_type": "markdown",
   "metadata": {},
   "source": [
    "# Q4. Describe two methods for triggering exceptions in your script."
   ]
  },
  {
   "cell_type": "markdown",
   "metadata": {},
   "source": [
    "You can trigger exception in your script using, __raise__ or __assert__ keyword."
   ]
  },
  {
   "cell_type": "markdown",
   "metadata": {},
   "source": [
    "# Q5. Identify two methods for specifying actions to be executed at termination time, regardless of whether or not an exception exists."
   ]
  },
  {
   "cell_type": "markdown",
   "metadata": {},
   "source": [
    "You can use a __finally__ block or a conditional statement handling the error and running the code that should always run as a usual syntax in the remaining part of the script. For e.g.\n",
    "\n",
    "##### Method 1\n",
    "a, b = input().split()\n",
    "\n",
    "a, b = int(a), int(b)\n",
    "\n",
    "try:\n",
    "\n",
    "    print(a/b)\n",
    "\n",
    "except:\n",
    "\n",
    "    print('Enter b as a non zero value')\n",
    "\n",
    "finally:    \n",
    "\n",
    "    print('Script ran successfully')\n",
    "    \n",
    "##### Method 2\n",
    "a, b = input().split()\n",
    "\n",
    "a, b = int(a), int(b)\n",
    "\n",
    "try:\n",
    "\n",
    "    print(a/b)\n",
    "    \n",
    "except:\n",
    "\n",
    "    pass\n",
    "    \n",
    "print('Script ran successfully')"
   ]
  }
 ],
 "metadata": {
  "kernelspec": {
   "display_name": "Python 3",
   "language": "python",
   "name": "python3"
  },
  "language_info": {
   "codemirror_mode": {
    "name": "ipython",
    "version": 3
   },
   "file_extension": ".py",
   "mimetype": "text/x-python",
   "name": "python",
   "nbconvert_exporter": "python",
   "pygments_lexer": "ipython3",
   "version": "3.8.5"
  }
 },
 "nbformat": 4,
 "nbformat_minor": 4
}
