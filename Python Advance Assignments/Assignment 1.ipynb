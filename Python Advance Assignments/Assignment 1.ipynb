{
 "cells": [
  {
   "cell_type": "markdown",
   "metadata": {},
   "source": [
    "# Q1. What is the purpose of Python's OOP?"
   ]
  },
  {
   "cell_type": "markdown",
   "metadata": {},
   "source": [
    "Python's OOPS or for OOPS in general is designed to reduce redundancy in coding and for better design."
   ]
  },
  {
   "cell_type": "markdown",
   "metadata": {},
   "source": [
    "# Q2. Where does an inheritance search look for an attribute?"
   ]
  },
  {
   "cell_type": "markdown",
   "metadata": {},
   "source": [
    "Inheritance Searches Namespace Trees"
   ]
  },
  {
   "cell_type": "markdown",
   "metadata": {},
   "source": [
    "# Q3. How do you distinguish between a class object and an instance object?"
   ]
  },
  {
   "cell_type": "markdown",
   "metadata": {},
   "source": [
    "A class object is you can think of a blueprint code defined using **class** keyword. Whereas an instance is a unique copy of a class."
   ]
  },
  {
   "cell_type": "markdown",
   "metadata": {},
   "source": [
    "# Q4. What makes the first argument in a class’s method function special?"
   ]
  },
  {
   "cell_type": "markdown",
   "metadata": {},
   "source": [
    "The first argument is always **\"self\"** which represents, access of all he attributes defined at the start of the class and in it's constructor."
   ]
  },
  {
   "cell_type": "markdown",
   "metadata": {},
   "source": [
    "# Q5. What is the purpose of the __init__ method?"
   ]
  },
  {
   "cell_type": "markdown",
   "metadata": {},
   "source": [
    "This is a constructor for a class in python, which basically always runs when an instance of a class is made."
   ]
  },
  {
   "cell_type": "markdown",
   "metadata": {},
   "source": [
    "# Q6. What is the process for creating a class instance?"
   ]
  },
  {
   "cell_type": "markdown",
   "metadata": {},
   "source": [
    "You assign a variable to a class call. For e.g.\n",
    "\n",
    "Here first defining a class **Classy**\n",
    "\n",
    "class classy():\n",
    "\n",
    "    def __init__(self):\n",
    "        \n",
    "        self.a = 2\n",
    "        \n",
    "        self.b = 'hey'\n",
    "        \n",
    "Now, actually creating the instance for class **Classy**\n",
    "\n",
    "obj=Classy()"
   ]
  },
  {
   "cell_type": "markdown",
   "metadata": {},
   "source": [
    "# Q7. What is the process for creating a class?"
   ]
  },
  {
   "cell_type": "markdown",
   "metadata": {},
   "source": [
    "As, shown in previous question:\n",
    "    \n",
    "class classy():\n",
    "\n",
    "    def __init__(self):\n",
    "\n",
    "        self.a = 2\n",
    "\n",
    "        self.b = 'hey'"
   ]
  },
  {
   "cell_type": "markdown",
   "metadata": {},
   "source": [
    "# Q8. How would you define the superclasses of a class?"
   ]
  },
  {
   "cell_type": "markdown",
   "metadata": {},
   "source": [
    "A superclass is basically a class from which many classes inherit. So one example is shown below:\n",
    "\n",
    "Here class **Super** is the superclass.\n",
    "\n",
    "class Super():\n",
    "\n",
    "    def __init__(self):\n",
    "    \n",
    "        self.sup_a = 'I am Awesome'\n",
    "        \n",
    "        self.sup_b = 10000\n",
    "        \n",
    "        self.owner = 'I am the grandaddy'\n",
    "        \n",
    "    def call_grand(self):\n",
    "        \n",
    "        print(self.owner)\n",
    "        \n",
    "class Daughter(Super):\n",
    "\n",
    "    def __init__(self):\n",
    "    \n",
    "        Super.__init__(self)\n",
    "        \n",
    "        self.owner = 'I am the daughter'\n",
    "        \n",
    "    def call_daughter(self):\n",
    "    \n",
    "        print(self.owner)\n",
    "        \n",
    "class Son(Super):\n",
    "\n",
    "    def __init__(self):\n",
    "    \n",
    "        Super.__init__(self)\n",
    "        \n",
    "        self.owner = 'I am the son'\n",
    "        \n",
    "    def call_daughter(self):\n",
    "    \n",
    "        print(self.owner)"
   ]
  }
 ],
 "metadata": {
  "kernelspec": {
   "display_name": "Python 3",
   "language": "python",
   "name": "python3"
  },
  "language_info": {
   "codemirror_mode": {
    "name": "ipython",
    "version": 3
   },
   "file_extension": ".py",
   "mimetype": "text/x-python",
   "name": "python",
   "nbconvert_exporter": "python",
   "pygments_lexer": "ipython3",
   "version": "3.8.5"
  }
 },
 "nbformat": 4,
 "nbformat_minor": 4
}
