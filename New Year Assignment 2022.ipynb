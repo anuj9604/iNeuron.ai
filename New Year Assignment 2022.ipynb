{
 "cells": [
  {
   "cell_type": "markdown",
   "metadata": {},
   "source": [
    "# 1 . You have to write a fun which will take string and return a len of  it without using a inbuilt fun len"
   ]
  },
  {
   "cell_type": "code",
   "execution_count": 93,
   "metadata": {},
   "outputs": [],
   "source": [
    "def length(s):\n",
    "    \"\"\"This function will return length of a string passed, as integer\"\"\"\n",
    "    leng=0\n",
    "    if type(s) != str:\n",
    "        print(\"Please run the function again and this time, pass a string. Thank you!\")\n",
    "        return None\n",
    "    else:\n",
    "        for _ in s:\n",
    "            leng+=1\n",
    "        return leng"
   ]
  },
  {
   "cell_type": "markdown",
   "metadata": {},
   "source": [
    "# 2 . Write a fun which will be able to print an index of all premitive element which you will pass"
   ]
  },
  {
   "cell_type": "code",
   "execution_count": 11,
   "metadata": {},
   "outputs": [],
   "source": [
    "def print_index(p):\n",
    "    \"\"\"This function prints indexes of all elements of an iterable primitive data type.\"\"\"\n",
    "    if type(p)==list or type(p)==str or type(p)==tuple:\n",
    "        for i in range(0,len(p)):\n",
    "            print(f\"element: {p[i]} --> index: {i}\")\n",
    "        return None\n",
    "    else:\n",
    "        print(\"Data passed is not iterable, kindly pass either a list, string or a tuple. Thank you!\")\n",
    "        return None"
   ]
  },
  {
   "cell_type": "markdown",
   "metadata": {},
   "source": [
    "# 3 . Write a fun which will take input as a dict and give me out as a list of all the values even in case of 2 level nesting it should work ."
   ]
  },
  {
   "cell_type": "code",
   "execution_count": 15,
   "metadata": {},
   "outputs": [],
   "source": [
    "def unpack_val(d):\n",
    "    \"\"\"This function unpacks values of a dictionary upto 2 nested levels\"\"\"\n",
    "    if type(d)!=dict:\n",
    "        print(\"Please pass a dictionary as a argument\")\n",
    "        return None\n",
    "    else:\n",
    "        listy=[]\n",
    "        for _ in d.values():\n",
    "            if type(_)==dict:\n",
    "                for __ in _.values():\n",
    "                    listy.append(__)\n",
    "            else:\n",
    "                listy.append(_)\n",
    "        return listy"
   ]
  },
  {
   "cell_type": "markdown",
   "metadata": {},
   "source": [
    "# 4 . Write a fun which will take another function as an input and return me an output "
   ]
  },
  {
   "cell_type": "code",
   "execution_count": 20,
   "metadata": {},
   "outputs": [],
   "source": [
    "def in_func(a):\n",
    "    \"\"\"This function is created to be used an argument to another function\"\"\"\n",
    "    return f\"Greetings, fellow members! {a} is passed\"\n",
    "    \n",
    "def pass_func(b):\n",
    "    \"\"\"This function is created so that another function can be passed as an argument to this.\"\"\"\n",
    "    out=b('Adam')\n",
    "    return out"
   ]
  },
  {
   "cell_type": "markdown",
   "metadata": {},
   "source": [
    "# 5. Write a function which will take multiple list as a input and give me concatenation of all the element as  and output"
   ]
  },
  {
   "cell_type": "code",
   "execution_count": 23,
   "metadata": {},
   "outputs": [],
   "source": [
    "def concat_list(a,b,c):\n",
    "    \"\"\"This functions takes in 3 lists and conactenates all it's elements and returns a string\"\"\"\n",
    "    if type(a)!=list or type(b)!=list or type(c)!=list:\n",
    "        print(\"Please pass lists as arguments\")\n",
    "        return None\n",
    "    out=''\n",
    "    for _ in a+b+c:\n",
    "        out+=str(_)\n",
    "    return out"
   ]
  },
  {
   "cell_type": "markdown",
   "metadata": {},
   "source": [
    "# 6 . Write a function which will be able to take a list as an input return an index of each element  like a inbuilt index function but even if we have repetative element it should return index"
   ]
  },
  {
   "cell_type": "code",
   "execution_count": 28,
   "metadata": {},
   "outputs": [],
   "source": [
    "def print_index(p):\n",
    "    \"\"\"This function prints indexes of all elements of an iterable primitive data type.\"\"\"\n",
    "    if type(p)==list:\n",
    "        for i in range(0,len(p)):\n",
    "            print(f\"element: {p[i]} --> index: {i}\")\n",
    "        return None\n",
    "    else:\n",
    "        print(\"Data passed is not iterable, kindly pass either a list, string or a tuple. Thank you!\")\n",
    "        return None"
   ]
  },
  {
   "cell_type": "markdown",
   "metadata": {},
   "source": [
    "# 7 . Write a function which will whould return list of all the file name from a directory."
   ]
  },
  {
   "cell_type": "code",
   "execution_count": 30,
   "metadata": {},
   "outputs": [],
   "source": [
    "import os\n",
    "\n",
    "def files_in(dir):\n",
    "    \"\"\"This function contents of all the files in a given directory, as a list\"\"\"\n",
    "    return os.listdir(dir)"
   ]
  },
  {
   "cell_type": "markdown",
   "metadata": {},
   "source": [
    "# 8. Write a function which will be able to show your system configuration"
   ]
  },
  {
   "cell_type": "code",
   "execution_count": 33,
   "metadata": {},
   "outputs": [],
   "source": [
    "import platform\n",
    "\n",
    "def sys_confg():\n",
    "    \"\"\"This function shows you system configaration of your running device\"\"\"\n",
    "    my_system = platform.uname()\n",
    "\n",
    "    print(f\"System: {my_system.system}\")\n",
    "    print(f\"Node Name: {my_system.node}\")\n",
    "    print(f\"Release: {my_system.release}\")\n",
    "    print(f\"Version: {my_system.version}\")\n",
    "    print(f\"Machine: {my_system.machine}\")\n",
    "    print(f\"Processor: {my_system.processor}\")"
   ]
  },
  {
   "cell_type": "markdown",
   "metadata": {},
   "source": [
    "# 9. Write a function which will be able to show date and time"
   ]
  },
  {
   "cell_type": "code",
   "execution_count": null,
   "metadata": {},
   "outputs": [],
   "source": [
    "import datetime\n",
    "\n",
    "def date_time():\n",
    "    \"\"\"This functions shows you current date and time\"\"\"\n",
    "    d_and_t=datetime.datetime.now()\n",
    "    print(f\"right now, It's {d_and_t}\")"
   ]
  },
  {
   "cell_type": "markdown",
   "metadata": {},
   "source": [
    "# 10. Write a function which will be able to read a image file and show it to you"
   ]
  },
  {
   "cell_type": "code",
   "execution_count": null,
   "metadata": {},
   "outputs": [],
   "source": [
    "from PIL import Image\n",
    "\n",
    "def show_img(dir):\n",
    "    \"\"\"This functions reads an image file from the path provided and shows here itself\"\"\"\n",
    "    img=Image.open(dir)\n",
    "    print(img)"
   ]
  },
  {
   "cell_type": "markdown",
   "metadata": {},
   "source": [
    "# 11. Write a function which can read video file and play for you ."
   ]
  },
  {
   "cell_type": "code",
   "execution_count": 39,
   "metadata": {},
   "outputs": [],
   "source": [
    "import cv2\n",
    "import numpy as np\n",
    "\n",
    "def play_video(dir):\n",
    "    \"\"\"This function plays video from the location provided in the function, window quits on press of 'q'\"\"\"\n",
    "    cap = cv2.VideoCapture(dir)\n",
    "\n",
    "    if (cap.isOpened()== False):\n",
    "        print(\"Error opening video file\")\n",
    "\n",
    "    while(cap.isOpened()):\n",
    "\n",
    "        ret, frame = cap.read()\n",
    "        if ret == True:\n",
    "\n",
    "            cv2.imshow('Frame', frame)\n",
    "            if cv2.waitKey(25) & 0xFF == ord('q'):\n",
    "                break\n",
    "\n",
    "        else:\n",
    "            break\n",
    "\n",
    "    cap.release()\n",
    "\n",
    "    cv2.destroyAllWindows()\n",
    "    return None"
   ]
  },
  {
   "cell_type": "markdown",
   "metadata": {},
   "source": [
    "# 12. Write a function which can move a file from one directory to another directory"
   ]
  },
  {
   "cell_type": "code",
   "execution_count": null,
   "metadata": {},
   "outputs": [],
   "source": [
    "import os\n",
    "import shutil\n",
    "\n",
    "def moving_file(source,destination): \n",
    "    \"\"\"This function moves file from source to destination provided\"\"\"\n",
    "    dest = shutil.move(source, destination)\n",
    "    return None"
   ]
  },
  {
   "cell_type": "markdown",
   "metadata": {},
   "source": [
    "# 13. Write a function which will be able to shutdown your system."
   ]
  },
  {
   "cell_type": "code",
   "execution_count": null,
   "metadata": {},
   "outputs": [],
   "source": [
    "import os\n",
    "\n",
    "def shutdown():\n",
    "    \"\"\"This functions lets the user shutdown the system\"\"\"\n",
    "    shutdown = input(\"Do you wish to shutdown your computer ? (yes / no): \")\n",
    "\n",
    "    if shutdown == 'no':\n",
    "        exit()\n",
    "    else:\n",
    "        os.system(\"shutdown /s /t 1\")"
   ]
  },
  {
   "cell_type": "markdown",
   "metadata": {},
   "source": [
    "# 14. Write a function which will be able to access your mail."
   ]
  },
  {
   "cell_type": "code",
   "execution_count": 72,
   "metadata": {},
   "outputs": [],
   "source": [
    "import imaplib\n",
    "import email\n",
    "\n",
    "def see_mails(host='imap.gmail.com'):\n",
    "    \"\"\"This function lets you see all unseen messages in your inbox one by one. By default it is set to gmail client, \n",
    "    but you can change it using the host argument \"\"\"\n",
    "    \n",
    "    username=input('Login to your email account to see your emails.\\n\\nusername: ')\n",
    "    password=input('Password: ')\n",
    "    \n",
    "    mail=imaplib.IMAP4_SSL(host)\n",
    "    mail.login(username, password)\n",
    "    mail.select('inbox')\n",
    "\n",
    "    _, search_data=mail.search(None, 'UNSEEN')\n",
    "\n",
    "\n",
    "    for num in search_data[0].split():\n",
    "        _, data = mail.fetch(num, '(RFC822)')\n",
    "        _, b=data[0]\n",
    "        email_msg=email.message_from_bytes(b)\n",
    "        for header in ['subject', 'to', 'from', 'date']:\n",
    "            print(f'{header}: {email_msg[header]}')\n",
    "        for part in email_msg.walk():\n",
    "            if part.get_content_type()==\"text/plain\":\n",
    "                body=part.get_payload(decode=True)\n",
    "                print(body.decode())\n",
    "            else if part.get_content_type()==\"text/html\":\n",
    "                html_body=part.get_payload(decode=True)\n",
    "                print(html_body.decode())"
   ]
  },
  {
   "cell_type": "markdown",
   "metadata": {},
   "source": [
    "# 15. Write a func by which I can send a mail to anyone."
   ]
  },
  {
   "cell_type": "code",
   "execution_count": 69,
   "metadata": {},
   "outputs": [],
   "source": [
    "import smtplib\n",
    "from email.mime.text import MIMEText\n",
    "from email.mime.multipart import MIMEMultipart\n",
    "\n",
    "def send_mail(hst='smtp.gmail.com', prt=587, text='Email Body', html_text=None, subject=\"Email subject\", from_email='Monty Python <ba870281@gmail.com>', to_emails=[]):\n",
    "    \"\"\"This function let's you send email from a specified gmail account to any email id. If user wants to use another \n",
    "    email client for sending emails then they will just have to change the hst and prt arguments when \n",
    "    connecting to SMTP server.\n",
    "    \n",
    "    \"\"\"\n",
    "    username=input(\"Login to your gmail account to send emails from\\n\\nUsername: \")\n",
    "    password=input(\"Password: \")\n",
    "    \n",
    "    #Checking if to emails are provided in correct format or not\n",
    "    assert isinstance(to_emails, list), \"Please pass a list in to_emails argument\"\n",
    "    \n",
    "    #To encode the email using MIME\n",
    "    msg=MIMEMultipart('alternative')\n",
    "    msg['From']=from_email\n",
    "    msg['To']=', '.join(to_emails)\n",
    "    msg['Subject']=subject\n",
    "    \n",
    "    txt_part=MIMEText(text, 'plain')\n",
    "    msg.attach(txt_part)\n",
    "    \n",
    "    if html_text!=None:\n",
    "        html_part=MIMEText('<h1>This is through the html part</h1>', 'html')\n",
    "        msg.attach(html_part)\n",
    "    \n",
    "    msg_str=msg.as_string()\n",
    "    \n",
    "    #login to the smtp server\n",
    "    with smtplib.SMTP(host=hst, port=prt) as server:\n",
    "        server.ehlo()\n",
    "        server.starttls()\n",
    "        try:\n",
    "            server.login(username, password)\n",
    "            server.sendmail(from_email, to_emails, msg_str)\n",
    "            sent=True\n",
    "        except:\n",
    "            sent=False\n",
    "        finally:\n",
    "            print(f'Email sent successfully?\\n{sent}')"
   ]
  },
  {
   "cell_type": "markdown",
   "metadata": {},
   "source": [
    "# 16. Write a func to read a complete PDF file "
   ]
  },
  {
   "cell_type": "code",
   "execution_count": 85,
   "metadata": {},
   "outputs": [],
   "source": [
    "import PyPDF2\n",
    "\n",
    "def read_pdf(direc):\n",
    "    \"\"\"This function reads a PDF file from the location specified\"\"\"\n",
    "    f=open(direc, 'rb')\n",
    "    pdf_reader = PyPDF2.PdfFileReader(f)\n",
    "    for p in range(pdf_reader.numPages): \n",
    "        print(f'\\nPage {p+1}:\\n\\n{pdf_reader.getPage(p).extractText()}')"
   ]
  },
  {
   "cell_type": "markdown",
   "metadata": {},
   "source": [
    "# 17. Write a function to read a word file ."
   ]
  },
  {
   "cell_type": "code",
   "execution_count": 70,
   "metadata": {},
   "outputs": [],
   "source": [
    "import docx\n",
    "\n",
    "def read_docx(filename):\n",
    "    \"\"\"This functions read all the text inside a word file and prints it in the console\"\"\"\n",
    "    doc=docx.Document(filename)\n",
    "    fullText = ''\n",
    "    for para in doc.paragraphs:\n",
    "        fullText+=para.text+'\\n\\n'\n",
    "    print(fullText)"
   ]
  },
  {
   "cell_type": "markdown",
   "metadata": {},
   "source": [
    "# 18. Write a function which can help you to filter only word file from a directory."
   ]
  },
  {
   "cell_type": "code",
   "execution_count": 63,
   "metadata": {},
   "outputs": [],
   "source": [
    "import os\n",
    "import re\n",
    "\n",
    "def only_word_files(direc):\n",
    "    \"\"\"This function lists all word files in directory specified and also in it's sub folders\"\"\"\n",
    "    for _, __, files in os.walk(direc):\n",
    "        for file in files:\n",
    "            if file[-1:-5:-1]=='xcod' or file[-1:-4:-1]=='cod':\n",
    "                print(file)"
   ]
  },
  {
   "cell_type": "markdown",
   "metadata": {},
   "source": [
    "# 19. Write a function by which you can print an ip address of your system. "
   ]
  },
  {
   "cell_type": "code",
   "execution_count": 72,
   "metadata": {},
   "outputs": [],
   "source": [
    "import socket\n",
    "def get_ip():\n",
    "    \"\"\"Functions retrieves the hostname and IP address of the system and prints it\"\"\"\n",
    "    hostname = socket.gethostname()\n",
    "    ip_address = socket.gethostbyname(hostname)\n",
    "    print(f\"Hostname: {hostname}\")\n",
    "    print(f\"IP Address: {ip_address}\")"
   ]
  },
  {
   "cell_type": "markdown",
   "metadata": {},
   "source": [
    "# 20. Write a function by which you will be able to append two PDF files. "
   ]
  },
  {
   "cell_type": "code",
   "execution_count": 88,
   "metadata": {},
   "outputs": [],
   "source": [
    "import PyPDF2\n",
    "\n",
    "def add_PDFs(file1=None, file2=None):\n",
    "    \"\"\"This function appends PDF file2 onto file1 in a new PDF file\"\"\"\n",
    "    f1=open(file1,'rb')\n",
    "    pdf_reader1=PyPDF2.PdfFileReader(f1)\n",
    "    pdf_writer=PyPDF2.PdfFileWriter()\n",
    "    for i in range(pdf_reader1.numPages):\n",
    "        page=pdf_reader1.getPage(i)\n",
    "        pdf_writer.addPage(page)\n",
    "    pdf_output=open(\"New Appended File.pdf\",\"wb\")\n",
    "    pdf_writer.write(pdf_output)\n",
    "    f1.close()\n",
    "    f2=open(file2, 'rb')\n",
    "    pdf_reader2=PyPDF2.PdfFileReader(f2)\n",
    "    for i in range(pdf_reader2.numPages):\n",
    "        page=pdf_reader2.getPage(i)\n",
    "        pdf_writer.addPage(page)\n",
    "    pdf_writer.write(pdf_output)\n",
    "    pdf_output.close()"
   ]
  }
 ],
 "metadata": {
  "kernelspec": {
   "display_name": "Python 3",
   "language": "python",
   "name": "python3"
  },
  "language_info": {
   "codemirror_mode": {
    "name": "ipython",
    "version": 3
   },
   "file_extension": ".py",
   "mimetype": "text/x-python",
   "name": "python",
   "nbconvert_exporter": "python",
   "pygments_lexer": "ipython3",
   "version": "3.8.5"
  }
 },
 "nbformat": 4,
 "nbformat_minor": 4
}
