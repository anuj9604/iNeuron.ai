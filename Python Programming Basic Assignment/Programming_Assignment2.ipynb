{
 "cells": [
  {
   "cell_type": "markdown",
   "metadata": {},
   "source": [
    "1. Write a Python program to convert kilometers to miles?"
   ]
  },
  {
   "cell_type": "code",
   "execution_count": 4,
   "metadata": {},
   "outputs": [
    {
     "name": "stdout",
     "output_type": "stream",
     "text": [
      "Enter kilometres: 6.4\n",
      "4.0 miles\n"
     ]
    }
   ],
   "source": [
    "kms = float(input(\"Enter kilometres: \"))\n",
    "print(f'{kms/1.6} miles')"
   ]
  },
  {
   "cell_type": "markdown",
   "metadata": {},
   "source": [
    "2. Write a Python program to convert Celsius to Fahrenheit?"
   ]
  },
  {
   "cell_type": "code",
   "execution_count": 5,
   "metadata": {},
   "outputs": [
    {
     "name": "stdout",
     "output_type": "stream",
     "text": [
      "Enter tempreture in degree centigrade: 32\n",
      "89.6 Fahrenheit\n"
     ]
    }
   ],
   "source": [
    "centigrade = float(input(\"Enter tempreture in degree centigrade: \"))\n",
    "print(f'{(1.8)*centigrade+32} Fahrenheit')"
   ]
  },
  {
   "cell_type": "markdown",
   "metadata": {},
   "source": [
    "3. Write a Python program to display calendar?"
   ]
  },
  {
   "cell_type": "code",
   "execution_count": 14,
   "metadata": {},
   "outputs": [
    {
     "name": "stdout",
     "output_type": "stream",
     "text": [
      "Enter the month and year of which you want to see the calendar ofin the format mm yyyy: 2010 3\n",
      "\n",
      "\n",
      "     March 2010\n",
      "Mo Tu We Th Fr Sa Su\n",
      " 1  2  3  4  5  6  7\n",
      " 8  9 10 11 12 13 14\n",
      "15 16 17 18 19 20 21\n",
      "22 23 24 25 26 27 28\n",
      "29 30 31\n",
      "\n"
     ]
    }
   ],
   "source": [
    "import calendar\n",
    "\n",
    "year, month = input(\"Enter the month and year of which you want to see the calendar ofin the format mm yyyy: \").split()\n",
    "print('\\n')\n",
    "print(calendar.month(int(year), int(month)))"
   ]
  },
  {
   "cell_type": "markdown",
   "metadata": {},
   "source": [
    "4. Write a Python program to solve quadratic equation?"
   ]
  },
  {
   "cell_type": "code",
   "execution_count": 24,
   "metadata": {},
   "outputs": [
    {
     "name": "stdout",
     "output_type": "stream",
     "text": [
      "Enter coefficient of quadratic equation: 1 0 -9\n",
      "Roots are 3.0 and -3.0\n"
     ]
    }
   ],
   "source": [
    "a, b, c = input(\"Enter coefficient of quadratic equation: \").split()\n",
    "a, b, c = int(a), int(b), int(c)\n",
    "root1, root2 = ((-b)+((b)**2-(4*a*c))**0.5)/(2*a), ((-b)-((b)**2-(4*a*c))**0.5)/(2*a)\n",
    "print(f'Roots are {root1} and {root2}')"
   ]
  },
  {
   "cell_type": "markdown",
   "metadata": {},
   "source": [
    "5. Write a Python program to swap two variables without temp variable?"
   ]
  },
  {
   "cell_type": "code",
   "execution_count": 27,
   "metadata": {},
   "outputs": [
    {
     "name": "stdout",
     "output_type": "stream",
     "text": [
      "Enter two variables: 3 4\n",
      "Your numbers are \n",
      "3 and 4\n",
      "\n",
      "After swap numbers are \n",
      "4 and 3\n"
     ]
    }
   ],
   "source": [
    "a, b = input(\"Enter two variables: \").split()\n",
    "print(f'Your numbers are \\n{a} and {b}\\n')\n",
    "a, b = b, a\n",
    "print(f'After swap numbers are \\n{a} and {b}')"
   ]
  }
 ],
 "metadata": {
  "kernelspec": {
   "display_name": "Python 3",
   "language": "python",
   "name": "python3"
  },
  "language_info": {
   "codemirror_mode": {
    "name": "ipython",
    "version": 3
   },
   "file_extension": ".py",
   "mimetype": "text/x-python",
   "name": "python",
   "nbconvert_exporter": "python",
   "pygments_lexer": "ipython3",
   "version": "3.8.5"
  }
 },
 "nbformat": 4,
 "nbformat_minor": 4
}
