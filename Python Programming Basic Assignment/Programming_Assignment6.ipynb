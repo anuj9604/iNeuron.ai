{
 "cells": [
  {
   "cell_type": "markdown",
   "metadata": {},
   "source": [
    "# 1. Write a Python Program to Display Fibonacci Sequence Using Recursion?"
   ]
  },
  {
   "cell_type": "code",
   "execution_count": 3,
   "metadata": {},
   "outputs": [],
   "source": [
    "def val_fib_recur(num):\n",
    "    listy = []\n",
    "    if num<2:\n",
    "        return num\n",
    "    \n",
    "    return fib_recur(num-1) + fib_recur(num-2)\n",
    "\n",
    "def main_fib_recur(num):\n",
    "    listy = []\n",
    "    for i in range(num):\n",
    "        listy.append(val_fib_recur(i))\n",
    "    return listy"
   ]
  },
  {
   "cell_type": "markdown",
   "metadata": {},
   "source": [
    "# 2. Write a Python Program to Find Factorial of Number Using Recursion?"
   ]
  },
  {
   "cell_type": "code",
   "execution_count": 5,
   "metadata": {},
   "outputs": [],
   "source": [
    "def factorial_recur(num):\n",
    "    if num < 2:\n",
    "        return 1\n",
    "\n",
    "    return num*factorial_recur(num-1)"
   ]
  },
  {
   "cell_type": "markdown",
   "metadata": {},
   "source": [
    "# 3. Write a Python Program to calculate your Body Mass Index?"
   ]
  },
  {
   "cell_type": "code",
   "execution_count": 21,
   "metadata": {},
   "outputs": [],
   "source": [
    "def bmi_cal(w, h):\n",
    "    if 18.5<=round(((10000)*w/((h)**2)), 2)<=24.9:\n",
    "        print(f'Your BMI is {round(((10000)*w/((h)**2)), 2)}, normal.')\n",
    "        return round(((10000)*w/((h)**2)), 2)\n",
    "        \n",
    "    else:\n",
    "        print(f'Your BMI is {round(((10000)*w/((h)**2)), 2)}, abnormal')\n",
    "        return round(((10000)*w/((h)**2)), 2)"
   ]
  },
  {
   "cell_type": "markdown",
   "metadata": {},
   "source": [
    "# 4. Write a Python Program to calculate the natural logarithm of any number?"
   ]
  },
  {
   "cell_type": "code",
   "execution_count": 23,
   "metadata": {},
   "outputs": [],
   "source": [
    "import math\n",
    "def cal_natural_log(num):\n",
    "    return math.log(num)"
   ]
  },
  {
   "cell_type": "markdown",
   "metadata": {},
   "source": [
    "# 5. Write a Python Program for cube sum of first n natural numbers?"
   ]
  },
  {
   "cell_type": "code",
   "execution_count": 28,
   "metadata": {},
   "outputs": [],
   "source": [
    "def cusu_nat(n):\n",
    "    sum = 0\n",
    "    for i in range(1, n+1):\n",
    "        sum += i**3\n",
    "    return sum"
   ]
  }
 ],
 "metadata": {
  "kernelspec": {
   "display_name": "Python 3",
   "language": "python",
   "name": "python3"
  },
  "language_info": {
   "codemirror_mode": {
    "name": "ipython",
    "version": 3
   },
   "file_extension": ".py",
   "mimetype": "text/x-python",
   "name": "python",
   "nbconvert_exporter": "python",
   "pygments_lexer": "ipython3",
   "version": "3.8.5"
  }
 },
 "nbformat": 4,
 "nbformat_minor": 4
}
