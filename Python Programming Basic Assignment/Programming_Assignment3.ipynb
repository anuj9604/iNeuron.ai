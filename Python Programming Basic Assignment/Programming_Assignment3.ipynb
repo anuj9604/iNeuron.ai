{
 "cells": [
  {
   "cell_type": "markdown",
   "metadata": {},
   "source": [
    "1. Write a Python Program to Check if a Number is Positive, Negative or Zero?"
   ]
  },
  {
   "cell_type": "code",
   "execution_count": null,
   "metadata": {},
   "outputs": [],
   "source": [
    "num = int(input(\"Enter a number: \"))\n",
    "if num<0:\n",
    "    print(\"\\nnumber is a negative number\")\n",
    "else if num>0:\n",
    "    print(\"\\nnumber is a positive number\")\n",
    "else:\n",
    "    print(\"\\nnumber is zero\")"
   ]
  },
  {
   "cell_type": "markdown",
   "metadata": {},
   "source": [
    "2. Write a Python Program to Check if a Number is Odd or Even?"
   ]
  },
  {
   "cell_type": "code",
   "execution_count": null,
   "metadata": {},
   "outputs": [],
   "source": [
    "num = int(input(\"Enter a number: \"))\n",
    "if num%2 == 0:\n",
    "    print(\"\\nnumber is even\")\n",
    "else:\n",
    "    print(\"\\nnumber is odd\")"
   ]
  },
  {
   "cell_type": "markdown",
   "metadata": {},
   "source": [
    "3. Write a Python Program to Check Leap Year?"
   ]
  },
  {
   "cell_type": "code",
   "execution_count": 7,
   "metadata": {},
   "outputs": [
    {
     "name": "stdout",
     "output_type": "stream",
     "text": [
      "Enter a year to be checked: 1900\n",
      "\n",
      "1900 is not a leap year\n"
     ]
    }
   ],
   "source": [
    "year = int(input('Enter a year to be checked: '))\n",
    "if year%100 == 0:\n",
    "    if year%400 == 0:\n",
    "        print(f'\\n{year} is a leap year')\n",
    "    else:\n",
    "        print(f'\\n{year} is not a leap year')\n",
    "else:\n",
    "    if year%4 == 0:\n",
    "        print(f'\\n{year} is a leap year')\n",
    "    else:\n",
    "        print(f'\\n{year} is not a leap year')"
   ]
  },
  {
   "cell_type": "markdown",
   "metadata": {},
   "source": [
    "4. Write a Python Program to Check Prime Number?"
   ]
  },
  {
   "cell_type": "code",
   "execution_count": 8,
   "metadata": {},
   "outputs": [
    {
     "name": "stdout",
     "output_type": "stream",
     "text": [
      "Enter a number: 23\n",
      "23 is a prime number\n"
     ]
    }
   ],
   "source": [
    "num = int(input(\"Enter a number: \"))\n",
    "\n",
    "if num > 1:\n",
    "   for i in range(2,num):\n",
    "       if (num % i) == 0:\n",
    "           print(num,\"is not a prime number\")\n",
    "           print(i,\"times\",num//i,\"is\",num)\n",
    "           break\n",
    "   else:\n",
    "       print(num,\"is a prime number\")\n",
    "else:\n",
    "   print(num,\"is not a prime number\")"
   ]
  },
  {
   "cell_type": "markdown",
   "metadata": {},
   "source": [
    "5. Write a Python Program to Print all Prime Numbers in an Interval of 1-10000?"
   ]
  },
  {
   "cell_type": "code",
   "execution_count": null,
   "metadata": {},
   "outputs": [],
   "source": [
    "def eratosthenes():    \n",
    "    composite_num= set()\n",
    "    prime_num= set()\n",
    "    for i in range(3, 10000, 2):\n",
    "        mult_val=i\n",
    "        while mult_val<10000:\n",
    "            mult_val+=i\n",
    "            composite_num.add(mult_val)\n",
    "    for j in range(3, 10000, 2):\n",
    "        if j not in composite_num:\n",
    "            prime_num.add(j)\n",
    "    prime_num.add(2)\n",
    "    prime_num_final=list(prime_num)\n",
    "    prime_num_final.sort()\n",
    "    return prime_num_final\n",
    "    \n",
    "print(eratosthenes())"
   ]
  }
 ],
 "metadata": {
  "kernelspec": {
   "display_name": "Python 3",
   "language": "python",
   "name": "python3"
  },
  "language_info": {
   "codemirror_mode": {
    "name": "ipython",
    "version": 3
   },
   "file_extension": ".py",
   "mimetype": "text/x-python",
   "name": "python",
   "nbconvert_exporter": "python",
   "pygments_lexer": "ipython3",
   "version": "3.8.5"
  }
 },
 "nbformat": 4,
 "nbformat_minor": 4
}
